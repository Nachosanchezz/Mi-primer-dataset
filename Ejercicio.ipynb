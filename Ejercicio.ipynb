{
 "cells": [
  {
   "cell_type": "code",
   "execution_count": 2,
   "metadata": {},
   "outputs": [],
   "source": [
    "import pandas as pd\n",
    "import numpy as np\n",
    "import matplotlib.pyplot as plt\n",
    "from faker import Faker\n",
    "from sklearn.preprocessing import LabelEncoder\n",
    "from sklearn.linear_model import LinearRegression\n",
    "import random"
   ]
  },
  {
   "cell_type": "code",
   "execution_count": null,
   "metadata": {},
   "outputs": [],
   "source": [
    "fake = Faker()\n",
    "planets = [\"Tierra\", \"Marte\", \"Júpiter\", \"Saturno\", \"Urano\", \"Neptuno\"]\n",
    "accelerations = [9.8, 3.7, 24.8, 10.4, 8.9, 11.2]\n",
    "\n",
    "def generate_sample():\n",
    "    L = round(random.uniform(0.8, 2.5), 2)\n",
    "    t = round(random.uniform(0.4, 0.7), 2)\n",
    "    g_calculated = round((2 * L)/(t**2), 2)\n",
    "    most_probable_planet = \"Tierra\" if abs(g_calculated - 9.8) < abs(g_calculated - 9.0) else \"Saturno\"\n",
    "    second_most_probable_planet = \"Saturno\" if most_probable_planet == \"Tierra\" else \"Tierra\"\n",
    "\n",
    "    return {\n",
    "        \"ID\": fake.uuid4(),\n",
    "        \"Longitud (m)\": L,\n",
    "        \"Tiempo (s)\": t,\n",
    "        \"Gravedad calculada (m/s^2)\": g_calculated,\n",
    "        \"Planeta más probable\": most_probable_planet,\n",
    "        \"Segundo planeta más probable\": second_most_probable_planet\n",
    "    }\n",
    "\n",
    "dataset = ([generate_sample() for _ in range(100)])\n",
    "\n",
    "df = pd.DataFrame(dataset)\n",
    "print(df.describe())\n",
    "\n",
    "df.hist(column=[\"Longitud (m)\", \"Tiempo (s)\", \"Gravedad calculada (m/s^2)\"])\n",
    "plt.show()\n",
    "\n",
    "plt.scatter(df[\"Longitud (m)\"], df[\"Tiempo (s)\"])\n",
    "plt.xlabel(\"Longitud (m)\")\n",
    "plt.ylabel(\"Tiempo (s)\")\n",
    "plt.show()\n",
    "\n",
    "label_encoder = LabelEncoder()\n",
    "df[\"Planeta más probable (código)\"] = label_encoder.fit_transform(df[\"Planeta más probable\"])\n",
    "df[\"Segundo planeta más probable (código)\"] = label_encoder.fit_transform(df[\"Segundo planeta más probable\"])\n",
    "\n",
    "print(df.corr())\n",
    "\n"
   ]
  }
 ],
 "metadata": {
  "kernelspec": {
   "display_name": "base",
   "language": "python",
   "name": "python3"
  },
  "language_info": {
   "codemirror_mode": {
    "name": "ipython",
    "version": 3
   },
   "file_extension": ".py",
   "mimetype": "text/x-python",
   "name": "python",
   "nbconvert_exporter": "python",
   "pygments_lexer": "ipython3",
   "version": "3.9.13"
  },
  "orig_nbformat": 4
 },
 "nbformat": 4,
 "nbformat_minor": 2
}
